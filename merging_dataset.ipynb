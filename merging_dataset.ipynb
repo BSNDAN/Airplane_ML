{
  "nbformat": 4,
  "nbformat_minor": 0,
  "metadata": {
    "colab": {
      "provenance": [],
      "collapsed_sections": [],
      "authorship_tag": "ABX9TyP1CE1e05drxHCej+TIJbb5",
      "include_colab_link": true
    },
    "kernelspec": {
      "name": "python3",
      "display_name": "Python 3"
    },
    "language_info": {
      "name": "python"
    }
  },
  "cells": [
    {
      "cell_type": "markdown",
      "metadata": {
        "id": "view-in-github",
        "colab_type": "text"
      },
      "source": [
        "<a href=\"https://colab.research.google.com/github/BSNDAN/Airplane_ML/blob/main/merging_dataset.ipynb\" target=\"_parent\"><img src=\"https://colab.research.google.com/assets/colab-badge.svg\" alt=\"Open In Colab\"/></a>"
      ]
    },
    {
      "cell_type": "code",
      "source": [
        "!pip install -U -q PyDrive gcsfs "
      ],
      "metadata": {
        "id": "MQcD_gkBnPY6"
      },
      "execution_count": null,
      "outputs": []
    },
    {
      "cell_type": "code",
      "execution_count": null,
      "metadata": {
        "id": "IyhMIMgSnODh"
      },
      "outputs": [],
      "source": [
        "from pydrive.auth import GoogleAuth\n",
        "from pydrive.drive import GoogleDrive\n",
        "from google.colab import auth\n",
        "from oauth2client.client import GoogleCredentials"
      ]
    },
    {
      "cell_type": "code",
      "source": [
        "import numpy as np\n",
        "import pandas as pd\n",
        "import seaborn as sns\n",
        "import matplotlib.pyplot as plt\n",
        "from matplotlib.pyplot import figure\n",
        "\n",
        "from datetime import datetime \n",
        "from datetime import date"
      ],
      "metadata": {
        "id": "XpoiRHnSnQGH"
      },
      "execution_count": null,
      "outputs": []
    },
    {
      "cell_type": "code",
      "source": [
        "auth.authenticate_user()"
      ],
      "metadata": {
        "id": "0D28OeZRnRND"
      },
      "execution_count": null,
      "outputs": []
    },
    {
      "cell_type": "markdown",
      "source": [
        "# Import tables"
      ],
      "metadata": {
        "id": "MdERlQp_nZ5X"
      }
    },
    {
      "cell_type": "code",
      "source": [
        "Customer_table = (pd.read_csv(f\"gs://hublot-raw-area/files/Data_Extract_V4/Customer_Table.csv\",\n",
        "                            dtype={'Email' : str},)\n",
        "                  .rename({\"Billing Country (text only)\" : \"Billing_Country\", \n",
        "                            \"Mailing State/Province (text only)\" : \"Mailing_State_Province\",\n",
        "                            \"Birthdate\" :'BIRTHDAY',\n",
        "                            \"Person Account: Mailing Zip/Postal Code\" : \"Mailing_Zip_PostalCode\",\n",
        "                            \"Mailing Country (text only)\" : \"Mailing_Country\"}, axis=1))  \n",
        "  \n",
        "#Delete space in columns name       \n",
        "Customer_table.columns = Customer_table.columns.str.replace(\" \",\"_\")"
      ],
      "metadata": {
        "colab": {
          "base_uri": "https://localhost:8080/"
        },
        "id": "Wr_CjF6znVoE",
        "outputId": "759e2d83-00d2-45b3-e6b3-86b211b214b2"
      },
      "execution_count": null,
      "outputs": [
        {
          "output_type": "stream",
          "name": "stderr",
          "text": [
            "/usr/local/lib/python3.7/dist-packages/IPython/core/interactiveshell.py:3326: DtypeWarning: Columns (10) have mixed types.Specify dtype option on import or set low_memory=False.\n",
            "  exec(code_obj, self.user_global_ns, self.user_ns)\n"
          ]
        }
      ]
    },
    {
      "cell_type": "code",
      "source": [
        "Transactions_table = pd.read_csv(f\"gs://hublot-raw-area/files/Data_Extract/Transaction_Table.csv\",)\n",
        "Transactions_table.columns = Transactions_table.columns.str.replace(\" \",\"_\")"
      ],
      "metadata": {
        "id": "IOMARNT2nuH8"
      },
      "execution_count": null,
      "outputs": []
    },
    {
      "cell_type": "code",
      "source": [
        "Product_table = (pd.read_csv(f\"gs://hublot-raw-area/files/Data_Extract_V4/Product_Table.csv\")\n",
        "                .rename(columns={\"Product Code\" : \"Product Reference\"}))\n",
        "Product_table.columns = Product_table.columns.str.replace(\" \",\"_\")"
      ],
      "metadata": {
        "id": "HIsNEDseoL-e"
      },
      "execution_count": null,
      "outputs": []
    },
    {
      "cell_type": "code",
      "source": [
        "Product_table.shape"
      ],
      "metadata": {
        "colab": {
          "base_uri": "https://localhost:8080/"
        },
        "id": "QfcWT9BbEbt2",
        "outputId": "dd0678b4-1385-45aa-d9fe-ce07fbfed789"
      },
      "execution_count": null,
      "outputs": [
        {
          "output_type": "execute_result",
          "data": {
            "text/plain": [
              "(12489, 7)"
            ]
          },
          "metadata": {},
          "execution_count": 131
        }
      ]
    },
    {
      "cell_type": "code",
      "source": [
        "Boutique_table = pd.read_csv(f\"gs://hublot-raw-area/files/Data_Extract/Boutique_Table.csv\")\n",
        "Boutique_table.columns = Boutique_table.columns.str.replace(\" \",\"_\")"
      ],
      "metadata": {
        "id": "2DpFOJy4oNA4"
      },
      "execution_count": null,
      "outputs": []
    },
    {
      "cell_type": "code",
      "source": [
        "Belonging_table = pd.read_csv(f\"gs://hublot-raw-area/files/Data_Extract/Belonging_Table.csv\")\n",
        "Belonging_table.columns = Belonging_table.columns.str.replace(\" \",\"_\")"
      ],
      "metadata": {
        "id": "dlh02Hl0qb7c"
      },
      "execution_count": null,
      "outputs": []
    },
    {
      "cell_type": "code",
      "source": [
        "Customer_table.shape"
      ],
      "metadata": {
        "colab": {
          "base_uri": "https://localhost:8080/"
        },
        "id": "tFeH67RGBbHK",
        "outputId": "334e5833-ea37-459d-bd1e-3790420a102b"
      },
      "execution_count": null,
      "outputs": [
        {
          "output_type": "execute_result",
          "data": {
            "text/plain": [
              "(175429, 22)"
            ]
          },
          "metadata": {},
          "execution_count": 118
        }
      ]
    },
    {
      "cell_type": "markdown",
      "source": [
        "# Merging Transactions and Boutique tables\n",
        "- merge transactions and boutique on left\n",
        "- For each transaction, get boutique informations corresponding"
      ],
      "metadata": {
        "id": "JP2owxoy1UyT"
      }
    },
    {
      "cell_type": "code",
      "source": [
        "Transactions_boutique_merged = pd.merge(left=Transactions_table, right=Boutique_table, how=\"left\", \n",
        "                                        on=\"Boutique_ID\", suffixes=[\"_transaction\",\"_boutique\"])"
      ],
      "metadata": {
        "id": "Z3PF8Syovq1P"
      },
      "execution_count": null,
      "outputs": []
    },
    {
      "cell_type": "markdown",
      "source": [
        "# Merging Transactions and product tables\n",
        "- merge transactions and product on left\n",
        "- For each transaction, get product informations corresponding"
      ],
      "metadata": {
        "id": "VdgKAnLF34WK"
      }
    },
    {
      "cell_type": "code",
      "source": [
        "Transactions_df = pd.merge(left=Transactions_boutique_merged, right=Product_table, how=\"left\", \n",
        "                                        on=\"Product_Reference\")"
      ],
      "metadata": {
        "id": "mZ5yAgKa39rc"
      },
      "execution_count": null,
      "outputs": []
    },
    {
      "cell_type": "markdown",
      "source": [
        "# Merging customer and belonging tables\n",
        "- merge Belongings and Customers on left with customer id\n",
        "- For each Belonging, get customer informations corresponding\n",
        "- 36.72% of customer lost"
      ],
      "metadata": {
        "id": "oHDu1u8a8S3-"
      }
    },
    {
      "cell_type": "code",
      "source": [
        "Customer_table[\"is_client\"] = 1"
      ],
      "metadata": {
        "id": "f91TtRgfEBBE"
      },
      "execution_count": null,
      "outputs": []
    },
    {
      "cell_type": "code",
      "source": [
        "Belonging_df = pd.merge(left=Belonging_table, right=Customer_table, how=\"left\", \n",
        "                                        on=\"Customer_ID\")"
      ],
      "metadata": {
        "id": "j7JqBJ0c8rdb"
      },
      "execution_count": null,
      "outputs": []
    },
    {
      "cell_type": "code",
      "source": [
        "nb_customer_both = len(set(list(Belonging_df.Customer_ID.unique())) & \n",
        "                       set(list(Customer_table.Customer_ID.unique())))\n",
        "\n",
        "nb_customer_not_in_Belonging = len(Customer_table.Customer_ID) - nb_customer_both\n",
        "pct_customer_not_in_Belonging = nb_customer_not_in_Belonging/len(Customer_table.Customer_ID)*100\n",
        "\n",
        "print(f\"Number of Customer lost : {nb_customer_not_in_Belonging}\")\n",
        "print(f\"Percentage of Customer lost : {np.round(pct_customer_not_in_Belonging, 2)}%\")"
      ],
      "metadata": {
        "colab": {
          "base_uri": "https://localhost:8080/"
        },
        "id": "9UD9Ijzh9dkK",
        "outputId": "532a1b4e-5cc1-413f-8c19-218eec5fca37"
      },
      "execution_count": null,
      "outputs": [
        {
          "output_type": "stream",
          "name": "stdout",
          "text": [
            "Number of Customer lost : 64426\n",
            "Percentage of Customer lost : 36.72%\n"
          ]
        }
      ]
    },
    {
      "cell_type": "code",
      "source": [
        "Belonging_df.is_client.isna().sum()"
      ],
      "metadata": {
        "colab": {
          "base_uri": "https://localhost:8080/"
        },
        "id": "vdhDPm3uEAn_",
        "outputId": "e2dae6c3-6f58-4986-83bb-6a06ef399474"
      },
      "execution_count": null,
      "outputs": [
        {
          "output_type": "execute_result",
          "data": {
            "text/plain": [
              "25"
            ]
          },
          "metadata": {},
          "execution_count": 130
        }
      ]
    },
    {
      "cell_type": "markdown",
      "source": [
        "# Merging Belonging and Transactions tables (data check)\n",
        "\n",
        "- Merge Belonging and transaction on left with identical columns "
      ],
      "metadata": {
        "id": "Oel4I3drshmW"
      }
    },
    {
      "cell_type": "code",
      "source": [
        "identical_columns = list(set(list(Transactions_table.columns)) & set(list(Belonging_table.columns)))\n",
        "identical_columns"
      ],
      "metadata": {
        "colab": {
          "base_uri": "https://localhost:8080/"
        },
        "id": "c-6PqB1uwdLx",
        "outputId": "bfe5d1a0-fc08-4133-d70f-8f9dac44d8c1"
      },
      "execution_count": null,
      "outputs": [
        {
          "output_type": "execute_result",
          "data": {
            "text/plain": [
              "['Boutique_ID', 'Product_Reference', 'Customer_ID', 'Serial_Number']"
            ]
          },
          "metadata": {},
          "execution_count": 54
        }
      ]
    },
    {
      "cell_type": "code",
      "source": [
        "Belonging_extension = pd.merge(left=Belonging_df, right=Transactions_table, how=\"left\", on=identical_columns)"
      ],
      "metadata": {
        "id": "Prxac_e0t8Vs"
      },
      "execution_count": null,
      "outputs": []
    }
  ]
}